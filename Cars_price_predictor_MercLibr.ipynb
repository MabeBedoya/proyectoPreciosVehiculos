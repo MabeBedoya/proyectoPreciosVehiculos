{
 "cells": [
  {
   "cell_type": "markdown",
   "metadata": {},
   "source": [
    "### Libraries"
   ]
  },
  {
   "cell_type": "code",
   "execution_count": 1,
   "metadata": {},
   "outputs": [],
   "source": [
    "# data colelction and preprocessing\n",
    "from bs4 import BeautifulSoup\n",
    "import requests\n",
    "import pandas as pd\n",
    "import csv\n",
    "import time \n",
    "\n",
    "# for data visualisation and statistical analysis\n",
    "import numpy as np\n",
    "from sklearn.model_selection import train_test_split\n",
    "import seaborn as sns\n",
    "sns.set_style(\"white\")\n",
    "import matplotlib.patches as mpatches\n",
    "import matplotlib.pyplot as plt\n",
    "from pylab import rcParams\n",
    "\n",
    "\n",
    "%matplotlib inline"
   ]
  },
  {
   "cell_type": "markdown",
   "metadata": {},
   "source": [
    "## Download  Url"
   ]
  },
  {
   "cell_type": "code",
   "execution_count": 23,
   "metadata": {},
   "outputs": [],
   "source": [
    "def get_ads_urls():\n",
    "    urls_list = []\n",
    "    # define the basic url to crawl on\n",
    "    basic_url = \"https://autos.mercadolibre.com.ec/autos-camionetas/\"\n",
    "    supr_link = \"_DisplayType_LF\"\n",
    "    pref_link = \"_Desde_\"\n",
    "    con = [pref_link + str(sub) for sub in list(np.arange(1,501, 50))]\n",
    "    con[0] = \"\"\n",
    "    con = [ sub + supr_link for sub in con]\n",
    "    \n",
    "    for i in con:\n",
    "        url = basic_url+str(i)\n",
    "        r  = requests.get(url)\n",
    "        data = r.text\n",
    "        # transform it to bs object\n",
    "        soup = BeautifulSoup(data, \"lxml\")\n",
    "        # loop over page links\n",
    "        for div in soup.findAll('div', {'class': 'ui-search-result__image'}):\n",
    "            a = div.findAll('a')[0]\n",
    "            urls_list.append(a.get('href'))\n",
    "        time.sleep(5)\n",
    "    df = pd.DataFrame(data={\"url\": urls_list})\n",
    "    print(df.head())\n",
    "    df.to_csv(\"./data/ads_urls_mercado.csv\", sep=',',index=False)"
   ]
  },
  {
   "cell_type": "code",
   "execution_count": 24,
   "metadata": {},
   "outputs": [
    {
     "name": "stdout",
     "output_type": "stream",
     "text": [
      "                                                 url\n",
      "0  https://auto.mercadolibre.com.ec/MEC-426943093...\n",
      "1  https://auto.mercadolibre.com.ec/MEC-427666865...\n",
      "2  https://auto.mercadolibre.com.ec/MEC-426964946...\n",
      "3  https://auto.mercadolibre.com.ec/MEC-427299436...\n",
      "4  https://auto.mercadolibre.com.ec/MEC-427277173...\n"
     ]
    }
   ],
   "source": [
    "get_ads_urls()"
   ]
  },
  {
   "cell_type": "markdown",
   "metadata": {},
   "source": [
    "## Download Data de Url's"
   ]
  },
  {
   "cell_type": "code",
   "execution_count": 25,
   "metadata": {},
   "outputs": [],
   "source": [
    "def Filter(string, substr): \n",
    "    return [str for str in string if\n",
    "             any(sub in str for sub in substr)] \n",
    "\n",
    "def scrap_ad_data(ad_url):\n",
    "    r = requests.get(ad_url)\n",
    "    data = r.text\n",
    "    soup = BeautifulSoup(data, \"html.parser\")\n",
    "    target_component = soup.findAll([\"li\",\"span\",\"div\"],  {\"class\": [\"specs-wrapper\",\"price-tag-motors\"]})\n",
    "    #target_component_loc_text =soup.find(\"div\", class_='vip-card').find(\"span\").findAll(text=True)\n",
    "    results=[]\n",
    "    for i in target_component:\n",
    "        results.append(''.join(i.findAll(text=True)).replace('\\n',' '))\n",
    "                         \n",
    "    ult=[]\n",
    "    for i in range(0,len(results)):\n",
    "        ult.extend(results[i].split(\"  \"))\n",
    "    info= [i for i in ult if len(i)>0 ]    \n",
    "\n",
    "    #info.extend(target_component_loc_text)\n",
    "    info=Filter(info, ['Marca',\"Modelo\",'Kilómetros',\"Año\",\"U$S\"]) \n",
    "    return info\n"
   ]
  },
  {
   "cell_type": "code",
   "execution_count": 26,
   "metadata": {},
   "outputs": [],
   "source": [
    "def write_data_to_csv(data):\n",
    "    with open(\"./data/output_Mercado.csv\", \"w\") as f:\n",
    "        writer = csv.writer(f)\n",
    "        writer.writerows(data)"
   ]
  },
  {
   "cell_type": "code",
   "execution_count": 27,
   "metadata": {},
   "outputs": [],
   "source": [
    "def load_dataframe_info():\n",
    "    urls_data = pd.read_csv(\"./data/ads_urls_mercado.csv\")\n",
    "    final_result = []\n",
    "    for index, row in urls_data.iterrows():\n",
    "        final_result.append(scrap_ad_data(row['url']))\n",
    "    print('Scrapping data finished')\n",
    "    #write_data_to_csv(final_result)\n",
    "    return (final_result)"
   ]
  },
  {
   "cell_type": "code",
   "execution_count": 30,
   "metadata": {},
   "outputs": [
    {
     "data": {
      "text/html": [
       "<div>\n",
       "<style scoped>\n",
       "    .dataframe tbody tr th:only-of-type {\n",
       "        vertical-align: middle;\n",
       "    }\n",
       "\n",
       "    .dataframe tbody tr th {\n",
       "        vertical-align: top;\n",
       "    }\n",
       "\n",
       "    .dataframe thead th {\n",
       "        text-align: right;\n",
       "    }\n",
       "</style>\n",
       "<table border=\"1\" class=\"dataframe\">\n",
       "  <thead>\n",
       "    <tr style=\"text-align: right;\">\n",
       "      <th></th>\n",
       "      <th>carBrand</th>\n",
       "      <th>mileage</th>\n",
       "      <th>carModel</th>\n",
       "      <th>year</th>\n",
       "      <th>price</th>\n",
       "    </tr>\n",
       "  </thead>\n",
       "  <tbody>\n",
       "    <tr>\n",
       "      <th>0</th>\n",
       "      <td>U$S 13.000</td>\n",
       "      <td>None</td>\n",
       "      <td>None</td>\n",
       "      <td>None</td>\n",
       "      <td>None</td>\n",
       "    </tr>\n",
       "    <tr>\n",
       "      <th>1</th>\n",
       "      <td>Marca Chevrolet</td>\n",
       "      <td>Kilómetros 142000 km</td>\n",
       "      <td>Modelo Grand Vitara Sz 2.4</td>\n",
       "      <td>Año 2013</td>\n",
       "      <td>U$S 13.700</td>\n",
       "    </tr>\n",
       "    <tr>\n",
       "      <th>2</th>\n",
       "      <td>U$S 21.000</td>\n",
       "      <td>None</td>\n",
       "      <td>None</td>\n",
       "      <td>None</td>\n",
       "      <td>None</td>\n",
       "    </tr>\n",
       "    <tr>\n",
       "      <th>3</th>\n",
       "      <td>Marca Ford</td>\n",
       "      <td>Kilómetros 129600 km</td>\n",
       "      <td>Modelo Ecosport</td>\n",
       "      <td>Año 2008</td>\n",
       "      <td>U$S 12.500</td>\n",
       "    </tr>\n",
       "    <tr>\n",
       "      <th>4</th>\n",
       "      <td>Marca Kia</td>\n",
       "      <td>Kilómetros 112000 km</td>\n",
       "      <td>Modelo Rio r</td>\n",
       "      <td>Año 2014</td>\n",
       "      <td>U$S 12.000</td>\n",
       "    </tr>\n",
       "    <tr>\n",
       "      <th>5</th>\n",
       "      <td>U$S 6.500</td>\n",
       "      <td>None</td>\n",
       "      <td>None</td>\n",
       "      <td>None</td>\n",
       "      <td>None</td>\n",
       "    </tr>\n",
       "    <tr>\n",
       "      <th>6</th>\n",
       "      <td>Marca Kia</td>\n",
       "      <td>Kilómetros 56000 km</td>\n",
       "      <td>Modelo Sorento</td>\n",
       "      <td>Año 2005</td>\n",
       "      <td>U$S 15.950</td>\n",
       "    </tr>\n",
       "    <tr>\n",
       "      <th>7</th>\n",
       "      <td>Marca JAC</td>\n",
       "      <td>Kilómetros 45000 km</td>\n",
       "      <td>Modelo S3</td>\n",
       "      <td>Año 2019</td>\n",
       "      <td>U$S 16.850</td>\n",
       "    </tr>\n",
       "    <tr>\n",
       "      <th>8</th>\n",
       "      <td>U$S 12.900</td>\n",
       "      <td>None</td>\n",
       "      <td>None</td>\n",
       "      <td>None</td>\n",
       "      <td>None</td>\n",
       "    </tr>\n",
       "    <tr>\n",
       "      <th>9</th>\n",
       "      <td>U$S 16.500</td>\n",
       "      <td>None</td>\n",
       "      <td>None</td>\n",
       "      <td>None</td>\n",
       "      <td>None</td>\n",
       "    </tr>\n",
       "  </tbody>\n",
       "</table>\n",
       "</div>"
      ],
      "text/plain": [
       "          carBrand                mileage                     carModel  \\\n",
       "0      U$S 13.000                    None                         None   \n",
       "1  Marca Chevrolet   Kilómetros 142000 km   Modelo Grand Vitara Sz 2.4   \n",
       "2      U$S 21.000                    None                         None   \n",
       "3       Marca Ford   Kilómetros 129600 km              Modelo Ecosport   \n",
       "4        Marca Kia   Kilómetros 112000 km                 Modelo Rio r   \n",
       "5       U$S 6.500                    None                         None   \n",
       "6        Marca Kia    Kilómetros 56000 km               Modelo Sorento   \n",
       "7        Marca JAC    Kilómetros 45000 km                    Modelo S3   \n",
       "8      U$S 12.900                    None                         None   \n",
       "9      U$S 16.500                    None                         None   \n",
       "\n",
       "        year         price  \n",
       "0       None          None  \n",
       "1   Año 2013   U$S 13.700   \n",
       "2       None          None  \n",
       "3   Año 2008   U$S 12.500   \n",
       "4   Año 2014   U$S 12.000   \n",
       "5       None          None  \n",
       "6   Año 2005   U$S 15.950   \n",
       "7   Año 2019   U$S 16.850   \n",
       "8       None          None  \n",
       "9       None          None  "
      ]
     },
     "metadata": {},
     "output_type": "display_data"
    },
    {
     "data": {
      "text/plain": [
       "(500, 5)"
      ]
     },
     "metadata": {},
     "output_type": "display_data"
    }
   ],
   "source": [
    "scrap=load_dataframe_info()\n",
    "df = pd.DataFrame(scrap,columns=['carBrand','mileage',\"carModel\",\"year\",\"price\"])\n",
    "\n",
    "display(df.head(10),df.shape)"
   ]
  },
  {
   "cell_type": "code",
   "execution_count": 36,
   "metadata": {},
   "outputs": [
    {
     "data": {
      "text/plain": [
       "carBrand      0\n",
       "mileage     325\n",
       "carModel    325\n",
       "year        325\n",
       "price       325\n",
       "dtype: int64"
      ]
     },
     "execution_count": 36,
     "metadata": {},
     "output_type": "execute_result"
    }
   ],
   "source": [
    "df.isnull().sum()"
   ]
  },
  {
   "cell_type": "markdown",
   "metadata": {},
   "source": [
    "## Processing Data"
   ]
  },
  {
   "cell_type": "code",
   "execution_count": null,
   "metadata": {},
   "outputs": [],
   "source": [
    "df = pd.read_csv(\"./data/output_Mercado.csv\", sep=\",\", names=['carBrand','mileage',\"carModel\",\"year\",\"price\"], header=None,encoding=\"latin-1\")\n",
    "display(df.head(10),df.shape)"
   ]
  },
  {
   "cell_type": "code",
   "execution_count": 34,
   "metadata": {},
   "outputs": [
    {
     "data": {
      "text/html": [
       "<div>\n",
       "<style scoped>\n",
       "    .dataframe tbody tr th:only-of-type {\n",
       "        vertical-align: middle;\n",
       "    }\n",
       "\n",
       "    .dataframe tbody tr th {\n",
       "        vertical-align: top;\n",
       "    }\n",
       "\n",
       "    .dataframe thead th {\n",
       "        text-align: right;\n",
       "    }\n",
       "</style>\n",
       "<table border=\"1\" class=\"dataframe\">\n",
       "  <thead>\n",
       "    <tr style=\"text-align: right;\">\n",
       "      <th></th>\n",
       "      <th>carBrand</th>\n",
       "      <th>mileage</th>\n",
       "      <th>carModel</th>\n",
       "      <th>year</th>\n",
       "      <th>price</th>\n",
       "    </tr>\n",
       "  </thead>\n",
       "  <tbody>\n",
       "    <tr>\n",
       "      <th>1</th>\n",
       "      <td>Chevrolet</td>\n",
       "      <td>142000</td>\n",
       "      <td>Grand Vitara Sz 2.4</td>\n",
       "      <td>2013</td>\n",
       "      <td>13700</td>\n",
       "    </tr>\n",
       "    <tr>\n",
       "      <th>3</th>\n",
       "      <td>Ford</td>\n",
       "      <td>129600</td>\n",
       "      <td>Ecosport</td>\n",
       "      <td>2008</td>\n",
       "      <td>12500</td>\n",
       "    </tr>\n",
       "    <tr>\n",
       "      <th>4</th>\n",
       "      <td>Kia</td>\n",
       "      <td>112000</td>\n",
       "      <td>Rio r</td>\n",
       "      <td>2014</td>\n",
       "      <td>12000</td>\n",
       "    </tr>\n",
       "  </tbody>\n",
       "</table>\n",
       "</div>"
      ],
      "text/plain": [
       "    carBrand  mileage              carModel  year  price\n",
       "1  Chevrolet   142000   Grand Vitara Sz 2.4  2013  13700\n",
       "3       Ford   129600              Ecosport  2008  12500\n",
       "4        Kia   112000                 Rio r  2014  12000"
      ]
     },
     "metadata": {},
     "output_type": "display_data"
    },
    {
     "data": {
      "text/plain": [
       "(175, 5)"
      ]
     },
     "metadata": {},
     "output_type": "display_data"
    }
   ],
   "source": [
    "df_info=df.dropna(inplace=False).copy()\n",
    "df_info[\"carBrand\"]=df_info['carBrand'].map(lambda x: str(x)[6:])\n",
    "df_info[\"carModel\"]=df_info['carModel'].map(lambda x: str(x)[7:])\n",
    "df_info['mileage']=df_info['mileage'].str.extract('(\\d+)') \n",
    "df_info['year']=df_info['year'].str.extract('(\\d+)') \n",
    "df_info['price']=df_info['price'].str.replace(\".\",\"\").str.extract('(\\d+)') \n",
    "\n",
    "\n",
    "df_info[[\"mileage\",\"year\",\"price\"]]=df_info[[\"mileage\",\"year\",\"price\"]].apply(pd.to_numeric)\n",
    "\n",
    "display(df_info.head(3),df_info.shape)"
   ]
  },
  {
   "cell_type": "markdown",
   "metadata": {},
   "source": [
    "# Pruebas Unitarias "
   ]
  },
  {
   "cell_type": "code",
   "execution_count": null,
   "metadata": {},
   "outputs": [],
   "source": [
    "final_result=[]\n",
    "for index, row in x.iterrows():\n",
    "    final_result.append(scrap_ad_data(row['url']))\n",
    "final_result"
   ]
  },
  {
   "cell_type": "code",
   "execution_count": null,
   "metadata": {},
   "outputs": [],
   "source": [
    "x=scrap_ad_data('https://auto.mercadolibre.com.ec/MEC-427422595-ford-fiesta-power-1600-matriculado-2019-potente-veloz-2004-_JM#position=2&type=item&tracking_id=ad0c2b41-c8b5-484a-b682-99cb6fcb4c79')\n",
    "x"
   ]
  },
  {
   "cell_type": "code",
   "execution_count": null,
   "metadata": {},
   "outputs": [],
   "source": []
  }
 ],
 "metadata": {
  "kernelspec": {
   "display_name": "Python 3",
   "language": "python",
   "name": "python3"
  },
  "language_info": {
   "codemirror_mode": {
    "name": "ipython",
    "version": 3
   },
   "file_extension": ".py",
   "mimetype": "text/x-python",
   "name": "python",
   "nbconvert_exporter": "python",
   "pygments_lexer": "ipython3",
   "version": "3.7.6"
  }
 },
 "nbformat": 4,
 "nbformat_minor": 4
}
