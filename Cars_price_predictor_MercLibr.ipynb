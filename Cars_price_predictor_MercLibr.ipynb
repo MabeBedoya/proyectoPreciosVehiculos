{
 "cells": [
  {
   "cell_type": "markdown",
   "metadata": {},
   "source": [
    "### Libraries"
   ]
  },
  {
   "cell_type": "code",
   "execution_count": 1,
   "metadata": {},
   "outputs": [],
   "source": [
    "# data colelction and preprocessing\n",
    "from bs4 import BeautifulSoup\n",
    "import requests\n",
    "import pandas as pd\n",
    "import csv\n",
    "import time \n",
    "\n",
    "# for data visualisation and statistical analysis\n",
    "import numpy as np\n",
    "from sklearn.model_selection import train_test_split\n",
    "import seaborn as sns\n",
    "sns.set_style(\"white\")\n",
    "import matplotlib.patches as mpatches\n",
    "import matplotlib.pyplot as plt\n",
    "from pylab import rcParams\n",
    "\n",
    "\n",
    "%matplotlib inline"
   ]
  },
  {
   "cell_type": "markdown",
   "metadata": {},
   "source": [
    "## Download  Url"
   ]
  },
  {
   "cell_type": "code",
   "execution_count": 2,
   "metadata": {},
   "outputs": [],
   "source": [
    "def get_ads_urls():\n",
    "    urls_list = []\n",
    "    # define the basic url to crawl on\n",
    "    basic_url = \"https://autos.mercadolibre.com.ec/autos-camionetas/\"\n",
    "    supr_link = \"_DisplayType_LF\"\n",
    "    pref_link = \"_Desde_\"\n",
    "    con = [pref_link + str(sub) for sub in list(np.arange(1,1000, 50))]\n",
    "    con[0] = \"\"\n",
    "    con = [ sub + supr_link for sub in con]\n",
    "    \n",
    "    for i in con:\n",
    "        url = basic_url+str(i)\n",
    "        r  = requests.get(url)\n",
    "        data = r.text\n",
    "        # transform it to bs object\n",
    "        soup = BeautifulSoup(data, \"lxml\")\n",
    "        # loop over page links\n",
    "        for div in soup.findAll('div', {'class': 'ui-search-result__image'}):\n",
    "            a = div.findAll('a')[0]\n",
    "            urls_list.append(a.get('href'))\n",
    "        time.sleep(5)\n",
    "    df = pd.DataFrame(data={\"url\": urls_list})\n",
    "    print(df.head())\n",
    "    df.to_csv(\"data/ads_urls_mercado.csv\", sep=',',index=False)"
   ]
  },
  {
   "cell_type": "code",
   "execution_count": 3,
   "metadata": {},
   "outputs": [
    {
     "name": "stdout",
     "output_type": "stream",
     "text": [
      "                                                 url\n",
      "0  https://auto.mercadolibre.com.ec/MEC-426943093...\n",
      "1  https://auto.mercadolibre.com.ec/MEC-427099810...\n",
      "2  https://auto.mercadolibre.com.ec/MEC-427299436...\n",
      "3  https://auto.mercadolibre.com.ec/MEC-427454101...\n",
      "4  https://auto.mercadolibre.com.ec/MEC-427438910...\n"
     ]
    }
   ],
   "source": [
    "get_ads_urls()"
   ]
  },
  {
   "cell_type": "markdown",
   "metadata": {},
   "source": [
    "## Download Data de Url's"
   ]
  },
  {
   "cell_type": "code",
   "execution_count": 4,
   "metadata": {},
   "outputs": [],
   "source": [
    "def Filter(string, substr): \n",
    "    return [str for str in string if\n",
    "             any(sub in str for sub in substr)] "
   ]
  },
  {
   "cell_type": "code",
   "execution_count": 5,
   "metadata": {},
   "outputs": [],
   "source": [
    "def scrap_ad_data(ad_url):\n",
    "    r = requests.get(ad_url)\n",
    "    data = r.text\n",
    "    soup = BeautifulSoup(data, \"html.parser\")\n",
    "    target_component = soup.findAll([\"li\",\"span\",\"div\"],  {\"class\": [\"specs-wrapper\",\"price-tag-motors\"]})\n",
    "\n",
    "    results=[]\n",
    "    for i in target_component:\n",
    "        results.append(''.join(i.findAll(text=True)).replace('\\n',' '))\n",
    "                         \n",
    "    ult=[]\n",
    "    for i in range(0,len(results)):\n",
    "        ult.extend(results[i].split(\"  \"))\n",
    "    info= [i for i in ult if len(i)>0 ]    \n",
    "\n",
    "    info=Filter(info, ['Marca',\"Modelo\",'Kilómetros',\"Año\",\"U$S\"]) \n",
    "    return info\n"
   ]
  },
  {
   "cell_type": "code",
   "execution_count": 6,
   "metadata": {},
   "outputs": [],
   "source": [
    "def scrap_ad_list(ad_url):\n",
    "    r = requests.get(ad_url)\n",
    "    data = r.text\n",
    "    soup = BeautifulSoup(data, \"html.parser\")\n",
    "    #target_component_list = soup.findAll([\"div\",\"ul\"],  {\"class\": \"attribute-list\"})\n",
    "    target_component_list = soup.findAll([\"li\",\"span\",\"div\",\"ul\"],  {\"class\": [\"attribute-list\",\"price-tag-motors\"]})\n",
    "    \n",
    "    results=[]\n",
    "    for i in target_component_list:\n",
    "        results.append(''.join(i.findAll(text=True)).replace('\\n\\t','').replace('\\t:','').replace('\\n',' '))    \n",
    "\n",
    "    ult=[]\n",
    "    for i in range(0,len(results)):\n",
    "        ult.extend(results[i].split(\"  \"))\n",
    "    info= [i for i in ult if len(i)>0 ]    \n",
    "\n",
    "    info=Filter(info, ['Marca',\"Modelo\",'Kilómetros',\"Año\",\"U$S\"]) \n",
    "    return info\n"
   ]
  },
  {
   "cell_type": "code",
   "execution_count": 7,
   "metadata": {},
   "outputs": [],
   "source": [
    "def write_data_to_csv(data):\n",
    "    with open(\"./data/output_Mercado.csv\", \"w\") as f:\n",
    "        writer = csv.writer(f)\n",
    "        writer.writerows(data)"
   ]
  },
  {
   "cell_type": "code",
   "execution_count": 8,
   "metadata": {},
   "outputs": [],
   "source": [
    "def load_dataframe_data():\n",
    "    urls_data = pd.read_csv(\"./data/ads_urls_mercado.csv\")\n",
    "    final_result = []\n",
    "    for index, row in urls_data.iterrows():\n",
    "        final_result.append(scrap_ad_data(row['url']))\n",
    "    print('Scrapping data finished')\n",
    "    return (final_result)"
   ]
  },
  {
   "cell_type": "code",
   "execution_count": 9,
   "metadata": {},
   "outputs": [],
   "source": [
    "def load_dataframe_list():\n",
    "    urls_data = pd.read_csv(\"./data/ads_urls_mercado.csv\")\n",
    "    final_result = []\n",
    "    for index, row in urls_data.iterrows():\n",
    "        final_result.append(scrap_ad_list(row['url']))\n",
    "    print('Scrapping list finished')\n",
    "    \n",
    "    return (final_result)"
   ]
  },
  {
   "cell_type": "markdown",
   "metadata": {},
   "source": [
    "## Processing Data"
   ]
  },
  {
   "cell_type": "code",
   "execution_count": null,
   "metadata": {},
   "outputs": [],
   "source": [
    "scrap_data=load_dataframe_data()\n",
    "df_scrap_data = pd.DataFrame(scrap_data,columns=['carBrand','mileage',\"carModel\",\"year\",\"price\"])\n",
    "scrap_data=df_scrap_data.dropna().copy()\n",
    "\n",
    "display(scrap_data.head(10),scrap_data.shape)"
   ]
  },
  {
   "cell_type": "code",
   "execution_count": null,
   "metadata": {},
   "outputs": [],
   "source": [
    "scrap_list.isnull().sum()"
   ]
  },
  {
   "cell_type": "code",
   "execution_count": null,
   "metadata": {},
   "outputs": [],
   "source": [
    "#scrap_list=load_dataframe_list()\n",
    "df_scrap_list = pd.DataFrame(scrap_list,columns=['carBrand','carModel',\"year\",\"mileage\",\"price\",\"description\"])\n",
    "\n",
    "scrap_list=df_scrap_list.drop(['description'], axis='columns')\n",
    "\n",
    "display(scrap_list.head(10),scrap_list.shape)"
   ]
  },
  {
   "cell_type": "code",
   "execution_count": null,
   "metadata": {},
   "outputs": [],
   "source": [
    "df_info=pd.concat([scrap_data,scrap_list])\n",
    "def dataProcessing():\n",
    "\n",
    "    df_info[\"carBrand\"]=df_info['carBrand'].map(lambda x: str(x)[6:])\n",
    "    df_info[\"carModel\"]=df_info['carModel'].map(lambda x: str(x)[7:])\n",
    "\n",
    "    df_info['mileage']=df_info['mileage'].str.extract('(\\d+)') \n",
    "    df_info['year']=df_info['year'].str.extract('(\\d+)') \n",
    "    df_info['price']=df_info['price'].str.replace(\".\",\"\").str.extract('(\\d+)') \n",
    "\n",
    "    df_info[[\"mileage\",\"year\",\"price\"]]=df_info[[\"mileage\",\"year\",\"price\"]].apply(pd.to_numeric)\n",
    "\n",
    "    return df_info"
   ]
  },
  {
   "cell_type": "code",
   "execution_count": null,
   "metadata": {},
   "outputs": [],
   "source": [
    "info=dataProcessing()\n",
    "display(info.head(3),info.shape)"
   ]
  },
  {
   "cell_type": "markdown",
   "metadata": {},
   "source": [
    "## Descriptive analysis"
   ]
  },
  {
   "cell_type": "code",
   "execution_count": null,
   "metadata": {},
   "outputs": [],
   "source": []
  },
  {
   "cell_type": "code",
   "execution_count": null,
   "metadata": {},
   "outputs": [],
   "source": []
  },
  {
   "cell_type": "code",
   "execution_count": null,
   "metadata": {},
   "outputs": [],
   "source": []
  },
  {
   "cell_type": "markdown",
   "metadata": {},
   "source": [
    "## Pruebas Unitarias "
   ]
  },
  {
   "cell_type": "code",
   "execution_count": null,
   "metadata": {},
   "outputs": [],
   "source": [
    "def scrap_ad_data(ad_url):\n",
    "    r = requests.get(ad_url)\n",
    "    data = r.text\n",
    "    soup = BeautifulSoup(data, \"html.parser\")\n",
    "    target_component = soup.findAll([\"li\",\"span\",\"div\"],  {\"class\": [\"specs-wrapper\",\"price-tag-motors\"]})\n",
    "    target_component2 = soup.findAll([\"li\",\"span\",\"div\"],  {\"class\": [\"ui-dropdown\"]})\n",
    "    \n",
    "\n",
    "    \n",
    "    #target_component_loc_text =soup.find(\"div\", class_='vip-card').find(\"span\").findAll(text=True)\n",
    "    results=[]\n",
    "    for i in target_component:\n",
    "        results.append(''.join(i.findAll(text=True)).replace('\\n',' '))\n",
    "                         \n",
    "    ult=[]\n",
    "    for i in range(0,len(results)):\n",
    "        ult.extend(results[i].split(\"  \"))\n",
    "    info= [i for i in ult if len(i)>0 ]    \n",
    "\n",
    "    #info.extend(target_component_loc_text)\n",
    "    info=Filter(info, ['Marca',\"Modelo\",'Kilómetros',\"Año\",\"U$S\"]) \n",
    "    return info\n"
   ]
  },
  {
   "cell_type": "code",
   "execution_count": null,
   "metadata": {},
   "outputs": [],
   "source": [
    "x=scrap_ad_data('https://auto.mercadolibre.com.ec/MEC-427422595-ford-fiesta-power-1600-matriculado-2019-potente-veloz-2004-_JM#position=2&type=item&tracking_id=ad0c2b41-c8b5-484a-b682-99cb6fcb4c79')\n",
    "x"
   ]
  },
  {
   "cell_type": "code",
   "execution_count": null,
   "metadata": {},
   "outputs": [],
   "source": [
    "r = requests.get(\"https://auto.mercadolibre.com.ec/MEC-426964946-ford-explorer-ta-automatica-_JM#position=5&type=item&tracking_id=2e718937-66e9-4834-8e6d-03266ffc58f7\")\n",
    "#r = requests.get(\"https://auto.mercadolibre.com.ec/MEC-427666865-grand-vitara-sz-24-traccion-4x2-automovil-_JM#position=2&type=item&tracking_id=2e718937-66e9-4834-8e6d-03266ffc58f7\")\n",
    "data = r.text\n",
    "soup = BeautifulSoup(data, \"html.parser\")\n",
    "#target_component = soup.findAll([\"li\",\"span\",\"div\"],  {\"class\": [\"specs-wrapper\",\"price-tag-motors\"]})\n",
    "#target_component_list = soup.findAll([\"div\",\"ul\"],  {\"class\": \"attribute-list\"})\n",
    "target_component = soup.findAll([\"li\",\"span\",\"div\"],  {\"class\": [\"attribute-list\",\"price-tag-motors\"]})\n",
    "\n",
    "\n",
    "#results=[]\n",
    "#for i in target_component:\n",
    "    #results.append(''.join(i.findAll(text=True)).replace('\\n',' '))\n",
    "    \n",
    "results_list=[]\n",
    "for i in target_component_list:\n",
    "    results_list.append(''.join(i.findAll(text=True)).replace('\\n\\t','').replace('\\t:','').replace('\\n',' ')) \n",
    "    \n",
    "result_list = []\n",
    "result_list.\n",
    "results_list.append(results_list)\n",
    "\n",
    "append(results_list[0])\n",
    "   \n"
   ]
  },
  {
   "cell_type": "code",
   "execution_count": null,
   "metadata": {},
   "outputs": [],
   "source": [
    "try:\n",
    "    x=results_list[2].split(\"  \")\n",
    "    x        \n",
    "except AttributeError:\n",
    "    pass\n"
   ]
  },
  {
   "cell_type": "code",
   "execution_count": null,
   "metadata": {},
   "outputs": [],
   "source": [
    "ult=[]\n",
    "for i in range(0,len(results_list)):\n",
    "    ult.extend(results_list[i].split(\"  \"))\n",
    "info= [i for i in ult if len(i)>0 ]    \n",
    "\n",
    "info=Filter(info, ['Marca',\"Modelo\",'Kilómetros',\"Año\",\"U$S\"]) \n",
    "\n",
    "info"
   ]
  },
  {
   "cell_type": "code",
   "execution_count": null,
   "metadata": {},
   "outputs": [],
   "source": [
    "lista = []\n",
    "lista.append(x)\n",
    "lista"
   ]
  },
  {
   "cell_type": "code",
   "execution_count": null,
   "metadata": {},
   "outputs": [],
   "source": []
  },
  {
   "cell_type": "code",
   "execution_count": null,
   "metadata": {},
   "outputs": [],
   "source": [
    "#df = pd.read_csv(\"./data/output_Mercado.csv\", sep=\",\", names=['carBrand','mileage',\"carModel\",\"year\",\"price\"], header=None,encoding=\"latin-1\")\n",
    "#display(df.head(10),df.shape)\n",
    "#df_info=pd.concat([scrap_data,scrap_list])\n",
    "\n",
    "df_info[[\"mileage\",\"year\",\"price\"]]=df_info[[\"mileage\",\"year\",\"price\"]].apply(pd.to_numeric)"
   ]
  },
  {
   "cell_type": "code",
   "execution_count": null,
   "metadata": {},
   "outputs": [],
   "source": [
    "r = requests.get(\"https://auto.mercadolibre.com.ec/MEC-426964946-ford-explorer-ta-automatica-_JM#position=5&type=item&tracking_id=2e718937-66e9-4834-8e6d-03266ffc58f7\")\n",
    "\n",
    "data = r.text\n",
    "soup = BeautifulSoup(data, \"html.parser\")\n",
    "#target_component_list = soup.findAll([\"div\",\"ul\"],  {\"class\": \"attribute-list\"})\n",
    "target_component_list = soup.findAll([\"li\",\"span\",\"div\",\"ul\"],  {\"class\": [\"attribute-list\",\"price-tag-motors\"]})\n",
    "    \n",
    "results=[]\n",
    "for i in target_component_list:\n",
    "    results.append(''.join(i.findAll(text=True)).replace('\\n\\t','').replace('\\t:','').replace('\\n',' '))    \n",
    "\n",
    "ult=[]\n",
    "for i in range(0,len(results)):\n",
    "    ult.extend(results[i].split(\"  \"))\n",
    "info= [i for i in ult if len(i)>0 ]    \n",
    "\n",
    "info=Filter(info, ['Marca',\"Modelo\",'Kilómetros',\"Año\",\"U$S\"]) \n",
    "info"
   ]
  },
  {
   "cell_type": "code",
   "execution_count": null,
   "metadata": {},
   "outputs": [],
   "source": [
    "target_component_list"
   ]
  },
  {
   "cell_type": "code",
   "execution_count": null,
   "metadata": {},
   "outputs": [],
   "source": []
  }
 ],
 "metadata": {
  "kernelspec": {
   "display_name": "Python 3",
   "language": "python",
   "name": "python3"
  },
  "language_info": {
   "codemirror_mode": {
    "name": "ipython",
    "version": 3
   },
   "file_extension": ".py",
   "mimetype": "text/x-python",
   "name": "python",
   "nbconvert_exporter": "python",
   "pygments_lexer": "ipython3",
   "version": "3.7.6"
  }
 },
 "nbformat": 4,
 "nbformat_minor": 4
}
