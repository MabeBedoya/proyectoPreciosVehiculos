{
 "cells": [
  {
   "cell_type": "markdown",
   "metadata": {},
   "source": [
    "### Libraries"
   ]
  },
  {
   "cell_type": "code",
   "execution_count": 1,
   "metadata": {},
   "outputs": [],
   "source": [
    "# data colelction and preprocessing\n",
    "from bs4 import BeautifulSoup\n",
    "import requests\n",
    "import pandas as pd\n",
    "import csv\n",
    "import time \n",
    "\n",
    "# for data visualisation and statistical analysis\n",
    "import numpy as np\n",
    "from sklearn.model_selection import train_test_split\n",
    "import seaborn as sns\n",
    "sns.set_style(\"white\")\n",
    "import matplotlib.patches as mpatches\n",
    "import matplotlib.pyplot as plt\n",
    "from pylab import rcParams\n",
    "\n",
    "\n",
    "%matplotlib inline"
   ]
  },
  {
   "cell_type": "markdown",
   "metadata": {},
   "source": [
    "## Download  Url"
   ]
  },
  {
   "cell_type": "code",
   "execution_count": 3,
   "metadata": {},
   "outputs": [],
   "source": [
    "def get_ads_urls():\n",
    "    urls_list = []\n",
    "    # define the basic url to crawl on\n",
    "    basic_url = \"https://autos.mercadolibre.com.ec/autos-camionetas/\"\n",
    "    supr_link = \"_DisplayType_LF\"\n",
    "    pref_link = \"_Desde_\"\n",
    "    con = [pref_link + str(sub) for sub in list(np.arange(1,500, 50))]\n",
    "    con[0] = \"\"\n",
    "    con = [ sub + supr_link for sub in con]\n",
    "    \n",
    "    for i in con:\n",
    "        url = basic_url+str(i)\n",
    "        r  = requests.get(url)\n",
    "        data = r.text\n",
    "        # transform it to bs object\n",
    "        soup = BeautifulSoup(data, \"lxml\")\n",
    "        # loop over page links\n",
    "        for div in soup.findAll('div', {'class': 'ui-search-result__image'}):\n",
    "            a = div.findAll('a')[0]\n",
    "            urls_list.append(a.get('href'))\n",
    "        time.sleep(5)\n",
    "    df = pd.DataFrame(data={\"url\": urls_list})\n",
    "    print(df.head())\n",
    "    df.to_csv(\"data/ads_urls_mercado.csv\", sep=',',index=False)"
   ]
  },
  {
   "cell_type": "code",
   "execution_count": 4,
   "metadata": {},
   "outputs": [
    {
     "name": "stdout",
     "output_type": "stream",
     "text": [
      "                                                 url\n",
      "0  https://auto.mercadolibre.com.ec/MEC-426943093...\n",
      "1  https://auto.mercadolibre.com.ec/MEC-427299436...\n",
      "2  https://auto.mercadolibre.com.ec/MEC-427277173...\n",
      "3  https://auto.mercadolibre.com.ec/MEC-427454101...\n",
      "4  https://auto.mercadolibre.com.ec/MEC-427438910...\n"
     ]
    }
   ],
   "source": [
    "get_ads_urls()"
   ]
  },
  {
   "cell_type": "markdown",
   "metadata": {},
   "source": [
    "## Download Data de Url's"
   ]
  },
  {
   "cell_type": "code",
   "execution_count": 5,
   "metadata": {},
   "outputs": [],
   "source": [
    "def Filter(string, substr): \n",
    "    return [str for str in string if\n",
    "             any(sub in str for sub in substr)] "
   ]
  },
  {
   "cell_type": "code",
   "execution_count": 6,
   "metadata": {},
   "outputs": [],
   "source": [
    "def scrap_ad_data(ad_url):\n",
    "    r = requests.get(ad_url)\n",
    "    data = r.text\n",
    "    soup = BeautifulSoup(data, \"html.parser\")\n",
    "    target_component = soup.findAll([\"li\",\"span\",\"div\"],  {\"class\": [\"specs-wrapper\",\"price-tag-motors\"]})\n",
    "\n",
    "    results=[]\n",
    "    for i in target_component:\n",
    "        results.append(''.join(i.findAll(text=True)).replace('\\n',' '))\n",
    "                         \n",
    "    ult=[]\n",
    "    for i in range(0,len(results)):\n",
    "        ult.extend(results[i].split(\"  \"))\n",
    "    info= [i for i in ult if len(i)>0 ]    \n",
    "\n",
    "    info=Filter(info, ['Marca',\"Modelo\",'Kilómetros',\"Año\",\"U$S\"]) \n",
    "    return info\n"
   ]
  },
  {
   "cell_type": "code",
   "execution_count": 7,
   "metadata": {},
   "outputs": [],
   "source": [
    "def scrap_ad_list(ad_url):\n",
    "    r = requests.get(ad_url)\n",
    "    data = r.text\n",
    "    soup = BeautifulSoup(data, \"html.parser\")\n",
    "    #target_component_list = soup.findAll([\"div\",\"ul\"],  {\"class\": \"attribute-list\"})\n",
    "    target_component_list = soup.findAll([\"li\",\"span\",\"div\",\"ul\"],  {\"class\": [\"attribute-list\",\"price-tag-motors\"]})\n",
    "    \n",
    "    results=[]\n",
    "    for i in target_component_list:\n",
    "        results.append(''.join(i.findAll(text=True)).replace('\\n\\t','').replace('\\t:','').replace('\\n',' '))    \n",
    "\n",
    "    ult=[]\n",
    "    for i in range(0,len(results)):\n",
    "        ult.extend(results[i].split(\"  \"))\n",
    "    info= [i for i in ult if len(i)>0 ]    \n",
    "\n",
    "    info=Filter(info, ['Marca',\"Modelo\",'Kilómetros',\"Año\",\"U$S\"]) \n",
    "    return info\n"
   ]
  },
  {
   "cell_type": "code",
   "execution_count": 8,
   "metadata": {},
   "outputs": [],
   "source": [
    "def write_data_to_csv(data):\n",
    "    with open(\"./data/output_Mercado.csv\", \"w\") as f:\n",
    "        writer = csv.writer(f)\n",
    "        writer.writerows(data)"
   ]
  },
  {
   "cell_type": "code",
   "execution_count": 9,
   "metadata": {},
   "outputs": [],
   "source": [
    "def load_dataframe_data():\n",
    "    urls_data = pd.read_csv(\"./data/ads_urls_mercado.csv\")\n",
    "    final_result = []\n",
    "    for index, row in urls_data.iterrows():\n",
    "        final_result.append(scrap_ad_data(row['url']))\n",
    "    print('Scrapping data finished')\n",
    "    return (final_result)"
   ]
  },
  {
   "cell_type": "code",
   "execution_count": 10,
   "metadata": {},
   "outputs": [],
   "source": [
    "def load_dataframe_list():\n",
    "    urls_data = pd.read_csv(\"./data/ads_urls_mercado.csv\")\n",
    "    final_result = []\n",
    "    for index, row in urls_data.iterrows():\n",
    "        final_result.append(scrap_ad_list(row['url']))\n",
    "    print('Scrapping list finished')\n",
    "    \n",
    "    return (final_result)"
   ]
  },
  {
   "cell_type": "markdown",
   "metadata": {},
   "source": [
    "## Processing Data"
   ]
  },
  {
   "cell_type": "code",
   "execution_count": 27,
   "metadata": {},
   "outputs": [
    {
     "data": {
      "text/html": [
       "<div>\n",
       "<style scoped>\n",
       "    .dataframe tbody tr th:only-of-type {\n",
       "        vertical-align: middle;\n",
       "    }\n",
       "\n",
       "    .dataframe tbody tr th {\n",
       "        vertical-align: top;\n",
       "    }\n",
       "\n",
       "    .dataframe thead th {\n",
       "        text-align: right;\n",
       "    }\n",
       "</style>\n",
       "<table border=\"1\" class=\"dataframe\">\n",
       "  <thead>\n",
       "    <tr style=\"text-align: right;\">\n",
       "      <th></th>\n",
       "      <th>carBrand</th>\n",
       "      <th>mileage</th>\n",
       "      <th>carModel</th>\n",
       "      <th>year</th>\n",
       "      <th>price</th>\n",
       "    </tr>\n",
       "  </thead>\n",
       "  <tbody>\n",
       "    <tr>\n",
       "      <th>1</th>\n",
       "      <td>Marca Ford</td>\n",
       "      <td>Kilómetros 129600 km</td>\n",
       "      <td>Modelo Ecosport</td>\n",
       "      <td>Año 2008</td>\n",
       "      <td>U$S 12.500</td>\n",
       "    </tr>\n",
       "    <tr>\n",
       "      <th>2</th>\n",
       "      <td>Marca Kia</td>\n",
       "      <td>Kilómetros 112000 km</td>\n",
       "      <td>Modelo Rio r</td>\n",
       "      <td>Año 2014</td>\n",
       "      <td>U$S 12.000</td>\n",
       "    </tr>\n",
       "    <tr>\n",
       "      <th>4</th>\n",
       "      <td>Marca Kia</td>\n",
       "      <td>Kilómetros 56000 km</td>\n",
       "      <td>Modelo Sorento</td>\n",
       "      <td>Año 2005</td>\n",
       "      <td>U$S 15.950</td>\n",
       "    </tr>\n",
       "    <tr>\n",
       "      <th>7</th>\n",
       "      <td>Marca JAC</td>\n",
       "      <td>Kilómetros 45000 km</td>\n",
       "      <td>Modelo S3</td>\n",
       "      <td>Año 2019</td>\n",
       "      <td>U$S 16.850</td>\n",
       "    </tr>\n",
       "    <tr>\n",
       "      <th>8</th>\n",
       "      <td>Marca Volkswagen</td>\n",
       "      <td>Kilómetros 63000 km</td>\n",
       "      <td>Modelo Amarok</td>\n",
       "      <td>Año 2017</td>\n",
       "      <td>U$S 27.000</td>\n",
       "    </tr>\n",
       "    <tr>\n",
       "      <th>14</th>\n",
       "      <td>Marca Ford</td>\n",
       "      <td>Kilómetros 225000 km</td>\n",
       "      <td>Modelo FIESTA POWER</td>\n",
       "      <td>Año 2004</td>\n",
       "      <td>U$S 4.900</td>\n",
       "    </tr>\n",
       "    <tr>\n",
       "      <th>15</th>\n",
       "      <td>Marca Ford</td>\n",
       "      <td>Kilómetros 111000 km</td>\n",
       "      <td>Modelo ESCAPE HIBRIDO</td>\n",
       "      <td>Año 2010</td>\n",
       "      <td>U$S 13.500</td>\n",
       "    </tr>\n",
       "    <tr>\n",
       "      <th>17</th>\n",
       "      <td>Marca Kia</td>\n",
       "      <td>Kilómetros 143000 km</td>\n",
       "      <td>Modelo GRAND CARIVAL</td>\n",
       "      <td>Año 2013</td>\n",
       "      <td>U$S 15.500</td>\n",
       "    </tr>\n",
       "    <tr>\n",
       "      <th>18</th>\n",
       "      <td>Marca Renautl</td>\n",
       "      <td>Kilómetros 153000 km</td>\n",
       "      <td>Modelo Sandero</td>\n",
       "      <td>Año 2010</td>\n",
       "      <td>U$S 8.590</td>\n",
       "    </tr>\n",
       "    <tr>\n",
       "      <th>19</th>\n",
       "      <td>Marca Volkswagen</td>\n",
       "      <td>Kilómetros 10000 km</td>\n",
       "      <td>Modelo CRAFTER AMAROK DIESEL</td>\n",
       "      <td>Año 2013</td>\n",
       "      <td>U$S 700</td>\n",
       "    </tr>\n",
       "  </tbody>\n",
       "</table>\n",
       "</div>"
      ],
      "text/plain": [
       "            carBrand                mileage                       carModel  \\\n",
       "1         Marca Ford   Kilómetros 129600 km                Modelo Ecosport   \n",
       "2          Marca Kia   Kilómetros 112000 km                   Modelo Rio r   \n",
       "4          Marca Kia    Kilómetros 56000 km                 Modelo Sorento   \n",
       "7          Marca JAC    Kilómetros 45000 km                      Modelo S3   \n",
       "8   Marca Volkswagen    Kilómetros 63000 km                  Modelo Amarok   \n",
       "14        Marca Ford   Kilómetros 225000 km            Modelo FIESTA POWER   \n",
       "15        Marca Ford   Kilómetros 111000 km          Modelo ESCAPE HIBRIDO   \n",
       "17         Marca Kia   Kilómetros 143000 km           Modelo GRAND CARIVAL   \n",
       "18     Marca Renautl   Kilómetros 153000 km                 Modelo Sandero   \n",
       "19  Marca Volkswagen    Kilómetros 10000 km   Modelo CRAFTER AMAROK DIESEL   \n",
       "\n",
       "         year         price  \n",
       "1    Año 2008   U$S 12.500   \n",
       "2    Año 2014   U$S 12.000   \n",
       "4    Año 2005   U$S 15.950   \n",
       "7    Año 2019   U$S 16.850   \n",
       "8    Año 2017   U$S 27.000   \n",
       "14   Año 2004    U$S 4.900   \n",
       "15   Año 2010   U$S 13.500   \n",
       "17   Año 2013   U$S 15.500   \n",
       "18   Año 2010    U$S 8.590   \n",
       "19   Año 2013      U$S 700   "
      ]
     },
     "metadata": {},
     "output_type": "display_data"
    },
    {
     "data": {
      "text/plain": [
       "(178, 5)"
      ]
     },
     "metadata": {},
     "output_type": "display_data"
    }
   ],
   "source": [
    "scrap_data=load_dataframe_data()\n",
    "df_scrap_data = pd.DataFrame(scrap_data,columns=['carBrand','mileage',\"carModel\",\"year\",\"price\"])\n",
    "scrap_data=df_scrap_data.dropna().copy()\n",
    "\n",
    "display(scrap_data.head(10),scrap_data.shape)"
   ]
  },
  {
   "cell_type": "code",
   "execution_count": 34,
   "metadata": {},
   "outputs": [
    {
     "data": {
      "text/plain": [
       "carBrand    0\n",
       "carModel    0\n",
       "year        0\n",
       "mileage     0\n",
       "price       0\n",
       "dtype: int64"
      ]
     },
     "execution_count": 34,
     "metadata": {},
     "output_type": "execute_result"
    }
   ],
   "source": [
    "scrap_list.isnull().sum()"
   ]
  },
  {
   "cell_type": "code",
   "execution_count": 32,
   "metadata": {},
   "outputs": [
    {
     "data": {
      "text/html": [
       "<div>\n",
       "<style scoped>\n",
       "    .dataframe tbody tr th:only-of-type {\n",
       "        vertical-align: middle;\n",
       "    }\n",
       "\n",
       "    .dataframe tbody tr th {\n",
       "        vertical-align: top;\n",
       "    }\n",
       "\n",
       "    .dataframe thead th {\n",
       "        text-align: right;\n",
       "    }\n",
       "</style>\n",
       "<table border=\"1\" class=\"dataframe\">\n",
       "  <thead>\n",
       "    <tr style=\"text-align: right;\">\n",
       "      <th></th>\n",
       "      <th>carBrand</th>\n",
       "      <th>carModel</th>\n",
       "      <th>year</th>\n",
       "      <th>mileage</th>\n",
       "      <th>price</th>\n",
       "    </tr>\n",
       "  </thead>\n",
       "  <tbody>\n",
       "    <tr>\n",
       "      <th>0</th>\n",
       "      <td>Marca Nissan murano</td>\n",
       "      <td>Modelo Murano 2007</td>\n",
       "      <td>Año 2007</td>\n",
       "      <td>Kilómetros 198.000 km</td>\n",
       "      <td>U$S 13.000</td>\n",
       "    </tr>\n",
       "    <tr>\n",
       "      <th>3</th>\n",
       "      <td>Marca 2001</td>\n",
       "      <td>Modelo Gol</td>\n",
       "      <td>Año 2001</td>\n",
       "      <td>Kilómetros 239.000 km</td>\n",
       "      <td>U$S 6.500</td>\n",
       "    </tr>\n",
       "    <tr>\n",
       "      <th>5</th>\n",
       "      <td>Marca BMW</td>\n",
       "      <td>Modelo BMW SERIE 550i</td>\n",
       "      <td>Año 2006</td>\n",
       "      <td>Kilómetros 160.000 km</td>\n",
       "      <td>U$S 21.000</td>\n",
       "    </tr>\n",
       "    <tr>\n",
       "      <th>6</th>\n",
       "      <td>Marca Ford</td>\n",
       "      <td>Modelo Explorer</td>\n",
       "      <td>Año 2007</td>\n",
       "      <td>Kilómetros 212.000 km</td>\n",
       "      <td>U$S 14.800</td>\n",
       "    </tr>\n",
       "    <tr>\n",
       "      <th>9</th>\n",
       "      <td>Marca Volkswagen</td>\n",
       "      <td>Modelo Jetta</td>\n",
       "      <td>Año 2009</td>\n",
       "      <td>Kilómetros 145.000 km</td>\n",
       "      <td>U$S 12.900</td>\n",
       "    </tr>\n",
       "    <tr>\n",
       "      <th>10</th>\n",
       "      <td>Marca Chevrolet</td>\n",
       "      <td>Modelo Sail</td>\n",
       "      <td>Año 2018</td>\n",
       "      <td>Kilómetros 33.800 km</td>\n",
       "      <td>U$S 16.500</td>\n",
       "    </tr>\n",
       "    <tr>\n",
       "      <th>11</th>\n",
       "      <td>Marca Mazda</td>\n",
       "      <td>Modelo CX3 Entry 2.0</td>\n",
       "      <td>Año 2020</td>\n",
       "      <td>Kilómetros 4.800 km</td>\n",
       "      <td>U$S 27.000</td>\n",
       "    </tr>\n",
       "    <tr>\n",
       "      <th>12</th>\n",
       "      <td>Marca Suzuki</td>\n",
       "      <td>Modelo Vitara SZ</td>\n",
       "      <td>Año 2010</td>\n",
       "      <td>Kilómetros 151.000 km</td>\n",
       "      <td>U$S 13.200</td>\n",
       "    </tr>\n",
       "    <tr>\n",
       "      <th>13</th>\n",
       "      <td>Marca Honda</td>\n",
       "      <td>Modelo CR-V</td>\n",
       "      <td>Año 2008</td>\n",
       "      <td>Kilómetros 284.000 km</td>\n",
       "      <td>U$S 14.300</td>\n",
       "    </tr>\n",
       "    <tr>\n",
       "      <th>16</th>\n",
       "      <td>Marca Suzuki</td>\n",
       "      <td>Modelo S-Cross</td>\n",
       "      <td>Año 2018</td>\n",
       "      <td>Kilómetros 50.000 km</td>\n",
       "      <td>U$S 17.500</td>\n",
       "    </tr>\n",
       "  </tbody>\n",
       "</table>\n",
       "</div>"
      ],
      "text/plain": [
       "                carBrand               carModel      year  \\\n",
       "0    Marca Nissan murano     Modelo Murano 2007  Año 2007   \n",
       "3             Marca 2001             Modelo Gol  Año 2001   \n",
       "5              Marca BMW  Modelo BMW SERIE 550i  Año 2006   \n",
       "6             Marca Ford        Modelo Explorer  Año 2007   \n",
       "9       Marca Volkswagen           Modelo Jetta  Año 2009   \n",
       "10       Marca Chevrolet            Modelo Sail  Año 2018   \n",
       "11           Marca Mazda   Modelo CX3 Entry 2.0  Año 2020   \n",
       "12          Marca Suzuki       Modelo Vitara SZ  Año 2010   \n",
       "13           Marca Honda            Modelo CR-V  Año 2008   \n",
       "16          Marca Suzuki         Modelo S-Cross  Año 2018   \n",
       "\n",
       "                  mileage         price  \n",
       "0   Kilómetros 198.000 km   U$S 13.000   \n",
       "3   Kilómetros 239.000 km    U$S 6.500   \n",
       "5   Kilómetros 160.000 km   U$S 21.000   \n",
       "6   Kilómetros 212.000 km   U$S 14.800   \n",
       "9   Kilómetros 145.000 km   U$S 12.900   \n",
       "10   Kilómetros 33.800 km   U$S 16.500   \n",
       "11    Kilómetros 4.800 km   U$S 27.000   \n",
       "12  Kilómetros 151.000 km   U$S 13.200   \n",
       "13  Kilómetros 284.000 km   U$S 14.300   \n",
       "16   Kilómetros 50.000 km   U$S 17.500   "
      ]
     },
     "metadata": {},
     "output_type": "display_data"
    },
    {
     "data": {
      "text/plain": [
       "(320, 5)"
      ]
     },
     "metadata": {},
     "output_type": "display_data"
    }
   ],
   "source": [
    "#scrap_list=load_dataframe_list()\n",
    "df_scrap_list = pd.DataFrame(scrap_list,columns=['carBrand','carModel',\"year\",\"mileage\",\"price\",\"description\"])\n",
    "\n",
    "scrap_list=df_scrap_list.drop(['description'], axis='columns')\n",
    "\n",
    "display(scrap_list.head(10),scrap_list.shape)"
   ]
  },
  {
   "cell_type": "code",
   "execution_count": 35,
   "metadata": {},
   "outputs": [],
   "source": [
    "df_info=pd.concat([scrap_data,scrap_list])\n",
    "def dataProcessing():\n",
    "\n",
    "    df_info[\"carBrand\"]=df_info['carBrand'].map(lambda x: str(x)[6:])\n",
    "    df_info[\"carModel\"]=df_info['carModel'].map(lambda x: str(x)[7:])\n",
    "\n",
    "    df_info['mileage']=df_info['mileage'].str.extract('(\\d+)') \n",
    "    df_info['year']=df_info['year'].str.extract('(\\d+)') \n",
    "    df_info['price']=df_info['price'].str.replace(\".\",\"\").str.extract('(\\d+)') \n",
    "\n",
    "    df_info[[\"mileage\",\"year\",\"price\"]]=df_info[[\"mileage\",\"year\",\"price\"]].apply(pd.to_numeric)\n",
    "\n",
    "    return df_info"
   ]
  },
  {
   "cell_type": "code",
   "execution_count": 36,
   "metadata": {},
   "outputs": [
    {
     "data": {
      "text/html": [
       "<div>\n",
       "<style scoped>\n",
       "    .dataframe tbody tr th:only-of-type {\n",
       "        vertical-align: middle;\n",
       "    }\n",
       "\n",
       "    .dataframe tbody tr th {\n",
       "        vertical-align: top;\n",
       "    }\n",
       "\n",
       "    .dataframe thead th {\n",
       "        text-align: right;\n",
       "    }\n",
       "</style>\n",
       "<table border=\"1\" class=\"dataframe\">\n",
       "  <thead>\n",
       "    <tr style=\"text-align: right;\">\n",
       "      <th></th>\n",
       "      <th>carBrand</th>\n",
       "      <th>mileage</th>\n",
       "      <th>carModel</th>\n",
       "      <th>year</th>\n",
       "      <th>price</th>\n",
       "    </tr>\n",
       "  </thead>\n",
       "  <tbody>\n",
       "    <tr>\n",
       "      <th>1</th>\n",
       "      <td>Ford</td>\n",
       "      <td>129600</td>\n",
       "      <td>Ecosport</td>\n",
       "      <td>2008</td>\n",
       "      <td>12500</td>\n",
       "    </tr>\n",
       "    <tr>\n",
       "      <th>2</th>\n",
       "      <td>Kia</td>\n",
       "      <td>112000</td>\n",
       "      <td>Rio r</td>\n",
       "      <td>2014</td>\n",
       "      <td>12000</td>\n",
       "    </tr>\n",
       "    <tr>\n",
       "      <th>4</th>\n",
       "      <td>Kia</td>\n",
       "      <td>56000</td>\n",
       "      <td>Sorento</td>\n",
       "      <td>2005</td>\n",
       "      <td>15950</td>\n",
       "    </tr>\n",
       "  </tbody>\n",
       "</table>\n",
       "</div>"
      ],
      "text/plain": [
       "  carBrand  mileage   carModel  year  price\n",
       "1     Ford   129600   Ecosport  2008  12500\n",
       "2      Kia   112000      Rio r  2014  12000\n",
       "4      Kia    56000    Sorento  2005  15950"
      ]
     },
     "metadata": {},
     "output_type": "display_data"
    },
    {
     "data": {
      "text/plain": [
       "(498, 5)"
      ]
     },
     "metadata": {},
     "output_type": "display_data"
    }
   ],
   "source": [
    "info=dataProcessing()\n",
    "display(info.head(3),info.shape)"
   ]
  },
  {
   "cell_type": "markdown",
   "metadata": {},
   "source": [
    "## Descriptive analysis"
   ]
  },
  {
   "cell_type": "code",
   "execution_count": null,
   "metadata": {},
   "outputs": [],
   "source": []
  },
  {
   "cell_type": "code",
   "execution_count": null,
   "metadata": {},
   "outputs": [],
   "source": []
  },
  {
   "cell_type": "code",
   "execution_count": null,
   "metadata": {},
   "outputs": [],
   "source": []
  },
  {
   "cell_type": "markdown",
   "metadata": {},
   "source": [
    "## Pruebas Unitarias "
   ]
  },
  {
   "cell_type": "code",
   "execution_count": null,
   "metadata": {},
   "outputs": [],
   "source": [
    "def scrap_ad_data(ad_url):\n",
    "    r = requests.get(ad_url)\n",
    "    data = r.text\n",
    "    soup = BeautifulSoup(data, \"html.parser\")\n",
    "    target_component = soup.findAll([\"li\",\"span\",\"div\"],  {\"class\": [\"specs-wrapper\",\"price-tag-motors\"]})\n",
    "    target_component2 = soup.findAll([\"li\",\"span\",\"div\"],  {\"class\": [\"ui-dropdown\"]})\n",
    "    \n",
    "\n",
    "    \n",
    "    #target_component_loc_text =soup.find(\"div\", class_='vip-card').find(\"span\").findAll(text=True)\n",
    "    results=[]\n",
    "    for i in target_component:\n",
    "        results.append(''.join(i.findAll(text=True)).replace('\\n',' '))\n",
    "                         \n",
    "    ult=[]\n",
    "    for i in range(0,len(results)):\n",
    "        ult.extend(results[i].split(\"  \"))\n",
    "    info= [i for i in ult if len(i)>0 ]    \n",
    "\n",
    "    #info.extend(target_component_loc_text)\n",
    "    info=Filter(info, ['Marca',\"Modelo\",'Kilómetros',\"Año\",\"U$S\"]) \n",
    "    return info\n"
   ]
  },
  {
   "cell_type": "code",
   "execution_count": null,
   "metadata": {},
   "outputs": [],
   "source": [
    "x=scrap_ad_data('https://auto.mercadolibre.com.ec/MEC-427422595-ford-fiesta-power-1600-matriculado-2019-potente-veloz-2004-_JM#position=2&type=item&tracking_id=ad0c2b41-c8b5-484a-b682-99cb6fcb4c79')\n",
    "x"
   ]
  },
  {
   "cell_type": "code",
   "execution_count": null,
   "metadata": {},
   "outputs": [],
   "source": [
    "r = requests.get(\"https://auto.mercadolibre.com.ec/MEC-426964946-ford-explorer-ta-automatica-_JM#position=5&type=item&tracking_id=2e718937-66e9-4834-8e6d-03266ffc58f7\")\n",
    "#r = requests.get(\"https://auto.mercadolibre.com.ec/MEC-427666865-grand-vitara-sz-24-traccion-4x2-automovil-_JM#position=2&type=item&tracking_id=2e718937-66e9-4834-8e6d-03266ffc58f7\")\n",
    "data = r.text\n",
    "soup = BeautifulSoup(data, \"html.parser\")\n",
    "#target_component = soup.findAll([\"li\",\"span\",\"div\"],  {\"class\": [\"specs-wrapper\",\"price-tag-motors\"]})\n",
    "#target_component_list = soup.findAll([\"div\",\"ul\"],  {\"class\": \"attribute-list\"})\n",
    "target_component = soup.findAll([\"li\",\"span\",\"div\"],  {\"class\": [\"attribute-list\",\"price-tag-motors\"]})\n",
    "\n",
    "\n",
    "#results=[]\n",
    "#for i in target_component:\n",
    "    #results.append(''.join(i.findAll(text=True)).replace('\\n',' '))\n",
    "    \n",
    "results_list=[]\n",
    "for i in target_component_list:\n",
    "    results_list.append(''.join(i.findAll(text=True)).replace('\\n\\t','').replace('\\t:','').replace('\\n',' ')) \n",
    "    \n",
    "result_list = []\n",
    "result_list.\n",
    "results_list.append(results_list)\n",
    "\n",
    "append(results_list[0])\n",
    "   \n"
   ]
  },
  {
   "cell_type": "code",
   "execution_count": null,
   "metadata": {},
   "outputs": [],
   "source": [
    "try:\n",
    "    x=results_list[2].split(\"  \")\n",
    "    x        \n",
    "except AttributeError:\n",
    "    pass\n"
   ]
  },
  {
   "cell_type": "code",
   "execution_count": null,
   "metadata": {},
   "outputs": [],
   "source": [
    "ult=[]\n",
    "for i in range(0,len(results_list)):\n",
    "    ult.extend(results_list[i].split(\"  \"))\n",
    "info= [i for i in ult if len(i)>0 ]    \n",
    "\n",
    "info=Filter(info, ['Marca',\"Modelo\",'Kilómetros',\"Año\",\"U$S\"]) \n",
    "\n",
    "info"
   ]
  },
  {
   "cell_type": "code",
   "execution_count": null,
   "metadata": {},
   "outputs": [],
   "source": [
    "lista = []\n",
    "lista.append(x)\n",
    "lista"
   ]
  },
  {
   "cell_type": "code",
   "execution_count": null,
   "metadata": {},
   "outputs": [],
   "source": []
  },
  {
   "cell_type": "code",
   "execution_count": null,
   "metadata": {},
   "outputs": [],
   "source": [
    "#df = pd.read_csv(\"./data/output_Mercado.csv\", sep=\",\", names=['carBrand','mileage',\"carModel\",\"year\",\"price\"], header=None,encoding=\"latin-1\")\n",
    "#display(df.head(10),df.shape)\n",
    "#df_info=pd.concat([scrap_data,scrap_list])\n",
    "\n",
    "df_info[[\"mileage\",\"year\",\"price\"]]=df_info[[\"mileage\",\"year\",\"price\"]].apply(pd.to_numeric)"
   ]
  },
  {
   "cell_type": "code",
   "execution_count": 21,
   "metadata": {},
   "outputs": [
    {
     "data": {
      "text/plain": [
       "[' Marca BMW',\n",
       " 'Modelo BMW SERIE 550i',\n",
       " 'Año 2006',\n",
       " 'Kilómetros 160.000 km',\n",
       " ' U$S 21.000 ']"
      ]
     },
     "execution_count": 21,
     "metadata": {},
     "output_type": "execute_result"
    }
   ],
   "source": [
    "r = requests.get(\"https://auto.mercadolibre.com.ec/MEC-426964946-ford-explorer-ta-automatica-_JM#position=5&type=item&tracking_id=2e718937-66e9-4834-8e6d-03266ffc58f7\")\n",
    "\n",
    "data = r.text\n",
    "soup = BeautifulSoup(data, \"html.parser\")\n",
    "#target_component_list = soup.findAll([\"div\",\"ul\"],  {\"class\": \"attribute-list\"})\n",
    "target_component_list = soup.findAll([\"li\",\"span\",\"div\",\"ul\"],  {\"class\": [\"attribute-list\",\"price-tag-motors\"]})\n",
    "    \n",
    "results=[]\n",
    "for i in target_component_list:\n",
    "    results.append(''.join(i.findAll(text=True)).replace('\\n\\t','').replace('\\t:','').replace('\\n',' '))    \n",
    "\n",
    "ult=[]\n",
    "for i in range(0,len(results)):\n",
    "    ult.extend(results[i].split(\"  \"))\n",
    "info= [i for i in ult if len(i)>0 ]    \n",
    "\n",
    "info=Filter(info, ['Marca',\"Modelo\",'Kilómetros',\"Año\",\"U$S\"]) \n",
    "info"
   ]
  },
  {
   "cell_type": "code",
   "execution_count": null,
   "metadata": {},
   "outputs": [],
   "source": [
    "target_component_list"
   ]
  },
  {
   "cell_type": "code",
   "execution_count": null,
   "metadata": {},
   "outputs": [],
   "source": []
  }
 ],
 "metadata": {
  "kernelspec": {
   "display_name": "Python 3",
   "language": "python",
   "name": "python3"
  },
  "language_info": {
   "codemirror_mode": {
    "name": "ipython",
    "version": 3
   },
   "file_extension": ".py",
   "mimetype": "text/x-python",
   "name": "python",
   "nbconvert_exporter": "python",
   "pygments_lexer": "ipython3",
   "version": "3.7.6"
  }
 },
 "nbformat": 4,
 "nbformat_minor": 4
}
